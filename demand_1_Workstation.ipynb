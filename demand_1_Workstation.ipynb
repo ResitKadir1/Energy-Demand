{
 "cells": [
  {
   "cell_type": "code",
   "execution_count": 1,
   "id": "6f843b3f",
   "metadata": {},
   "outputs": [
    {
     "name": "stdout",
     "output_type": "stream",
     "text": [
      "Num GPUs Available:  0\n"
     ]
    }
   ],
   "source": [
    "import tensorflow as tf\n",
    "print(\"Num GPUs Available: \", len(tf.config.list_physical_devices('GPU')))"
   ]
  },
  {
   "cell_type": "code",
   "execution_count": 2,
   "id": "04a22fa9",
   "metadata": {},
   "outputs": [],
   "source": [
    "import warnings\n",
    "warnings.filterwarnings('ignore')"
   ]
  },
  {
   "cell_type": "code",
   "execution_count": 3,
   "id": "30bb427d",
   "metadata": {},
   "outputs": [
    {
     "name": "stdout",
     "output_type": "stream",
     "text": [
      "CPU times: user 649 ms, sys: 158 ms, total: 808 ms\n",
      "Wall time: 1.02 s\n"
     ]
    }
   ],
   "source": [
    "%%time\n",
    "from influxdb import InfluxDBClient\n",
    "from  credentials import *\n",
    "import pandas as pd\n",
    "from matplotlib import pyplot as plt\n",
    "import numpy as np\n",
    "import seaborn as sns\n",
    "from datetime import datetime\n",
    "import plotly.graph_objs as go\n",
    "\n",
    "#import plotly.graph_objs as go\n",
    "#from keras.preprocessing.sequence import TimeseriesGenerator\n",
    "from sklearn.preprocessing import MinMaxScaler\n",
    "\n",
    "import os\n",
    "from tensorflow import keras \n",
    "from tensorflow.keras.models import Sequential\n",
    "from keras.callbacks import ModelCheckpoint, EarlyStopping\n",
    "from tensorflow.keras.layers import *\n",
    "from tensorflow.keras.callbacks import ModelCheckpoint\n",
    "from tensorflow.keras.losses import MeanSquaredError\n",
    "from tensorflow.keras.metrics import RootMeanSquaredError\n",
    "from tensorflow.keras.optimizers import Adam\n",
    "from keras.models import Sequential\n",
    "from keras.layers import LSTM, Dense\n",
    "\n",
    "\n"
   ]
  },
  {
   "cell_type": "code",
   "execution_count": 4,
   "id": "a5d8d1ab",
   "metadata": {},
   "outputs": [
    {
     "data": {
      "text/html": [
       "<div>\n",
       "<style scoped>\n",
       "    .dataframe tbody tr th:only-of-type {\n",
       "        vertical-align: middle;\n",
       "    }\n",
       "\n",
       "    .dataframe tbody tr th {\n",
       "        vertical-align: top;\n",
       "    }\n",
       "\n",
       "    .dataframe thead th {\n",
       "        text-align: right;\n",
       "    }\n",
       "</style>\n",
       "<table border=\"1\" class=\"dataframe\">\n",
       "  <thead>\n",
       "    <tr style=\"text-align: right;\">\n",
       "      <th></th>\n",
       "      <th>Total</th>\n",
       "    </tr>\n",
       "    <tr>\n",
       "      <th>Datetime</th>\n",
       "      <th></th>\n",
       "    </tr>\n",
       "  </thead>\n",
       "  <tbody>\n",
       "    <tr>\n",
       "      <th>2022-01-08 16:48:00+00:00</th>\n",
       "      <td>23.28</td>\n",
       "    </tr>\n",
       "    <tr>\n",
       "      <th>2022-01-08 16:49:00+00:00</th>\n",
       "      <td>23.28</td>\n",
       "    </tr>\n",
       "  </tbody>\n",
       "</table>\n",
       "</div>"
      ],
      "text/plain": [
       "                           Total\n",
       "Datetime                        \n",
       "2022-01-08 16:48:00+00:00  23.28\n",
       "2022-01-08 16:49:00+00:00  23.28"
      ]
     },
     "execution_count": 4,
     "metadata": {},
     "output_type": "execute_result"
    }
   ],
   "source": [
    "#connect to Database\n",
    "def get_connect():\n",
    "    client = InfluxDBClient(host=host, port=port, username=username, password=password)\n",
    "    client.switch_database('orkney')\n",
    "    return client\n",
    "\n",
    "\n",
    "#Query Data\n",
    "def get_Demand_data():\n",
    "    client = get_connect()\n",
    "    Demand = client.query('SELECT * FROM \"Demand\" WHERE time > now() - 60d ORDER BY time')\n",
    "    values = Demand.raw[\"series\"][0][\"values\"]\n",
    "    columns = Demand.raw[\"series\"][0][\"columns\"]\n",
    "    Demand = pd.DataFrame(values, columns=columns)#.set_index(\"time\")\n",
    "    return Demand\n",
    "\n",
    "\n",
    "\n",
    "def explore_data(df):\n",
    "    #df = get_Demand_data()\n",
    "    df['Datetime'] = pd.to_datetime(df.time)\n",
    "    df['year'] = df.Datetime.dt.year\n",
    "    df['month'] = df.Datetime.dt.month\n",
    "    df['day']=  df.Datetime.dt.day\n",
    "    df['Hour']= df.Datetime.dt.hour\n",
    "    df = df.drop([\"time\",\"year\",\"month\",\"day\",\"Hour\"],axis=1)\n",
    "    df = df.set_index(\"Datetime\")\n",
    "\n",
    "    return df \n",
    "\n",
    "\n",
    "\n",
    "df = get_Demand_data()\n",
    "df = explore_data(df)\n",
    "df.head(2)"
   ]
  },
  {
   "cell_type": "code",
   "execution_count": 5,
   "id": "847364fc",
   "metadata": {},
   "outputs": [
    {
     "name": "stdout",
     "output_type": "stream",
     "text": [
      "<class 'pandas.core.frame.DataFrame'>\n",
      "DatetimeIndex: 79375 entries, 2022-01-08 16:48:00+00:00 to 2022-03-09 16:47:00+00:00\n",
      "Data columns (total 1 columns):\n",
      " #   Column  Non-Null Count  Dtype  \n",
      "---  ------  --------------  -----  \n",
      " 0   Total   79375 non-null  float64\n",
      "dtypes: float64(1)\n",
      "memory usage: 1.2 MB\n"
     ]
    }
   ],
   "source": [
    "df.info()"
   ]
  },
  {
   "cell_type": "code",
   "execution_count": 6,
   "id": "0f87020e",
   "metadata": {},
   "outputs": [
    {
     "name": "stdout",
     "output_type": "stream",
     "text": [
      "CPU times: user 2 µs, sys: 0 ns, total: 2 µs\n",
      "Wall time: 5.96 µs\n"
     ]
    }
   ],
   "source": [
    "##################################\n",
    "%time\n",
    "if not os.path.exists('model'):\n",
    "    os.makedirs('model')\n",
    "\n",
    "if not os.path.exists('img'):\n",
    "    os.makedirs('img')\n",
    "\n",
    "# Hardcode all variables\n",
    "batch_size_exp = 1\n",
    "epoch_exp = 1\n",
    "neurons_exp = 10\n",
    "predict_values_exp = 60*24*30 #next minute\n",
    "lag_exp=5"
   ]
  },
  {
   "cell_type": "code",
   "execution_count": 7,
   "id": "fb965bc7",
   "metadata": {},
   "outputs": [],
   "source": [
    "# frame a sequence as a supervised learning problem\n",
    "def timeseries_to_supervised(data, lag=1):\n",
    "    df = pd.DataFrame(data)\n",
    "    columns = [df.shift(i) for i in range(1, lag+1)]\n",
    "    columns.append(df)\n",
    "    df = pd.concat(columns, axis=1)\n",
    "    df.fillna(0, inplace=True)\n",
    "    return df\n",
    "\n"
   ]
  },
  {
   "cell_type": "code",
   "execution_count": 8,
   "id": "d92704b0",
   "metadata": {},
   "outputs": [
    {
     "data": {
      "text/plain": [
       "array([[23.28],\n",
       "       [23.28],\n",
       "       [23.28],\n",
       "       ...,\n",
       "       [20.7 ],\n",
       "       [21.25],\n",
       "       [21.25]])"
      ]
     },
     "execution_count": 8,
     "metadata": {},
     "output_type": "execute_result"
    }
   ],
   "source": [
    "df.values"
   ]
  },
  {
   "cell_type": "code",
   "execution_count": 9,
   "id": "fa3a3445",
   "metadata": {},
   "outputs": [],
   "source": [
    "# create a differenced series\n",
    "def difference(dataset, interval=1):\n",
    "    diff = list()\n",
    "    for i in range(interval, len(dataset)):\n",
    "        value = dataset[i] - dataset[i - interval]\n",
    "        diff.append(value)\n",
    "    return pd.Series(diff)\n"
   ]
  },
  {
   "cell_type": "code",
   "execution_count": 10,
   "id": "13429e39",
   "metadata": {},
   "outputs": [
    {
     "data": {
      "text/plain": [
       "0                     [0.0]\n",
       "1                     [0.0]\n",
       "2                     [0.0]\n",
       "3                     [0.0]\n",
       "4                     [0.0]\n",
       "5                     [0.0]\n",
       "6      [-0.240000000000002]\n",
       "7                     [0.0]\n",
       "8                     [0.0]\n",
       "9                     [0.0]\n",
       "10                    [0.0]\n",
       "11                    [0.0]\n",
       "12                    [0.0]\n",
       "13    [-0.2699999999999996]\n",
       "14                    [0.0]\n",
       "15                    [0.0]\n",
       "dtype: object"
      ]
     },
     "execution_count": 10,
     "metadata": {},
     "output_type": "execute_result"
    }
   ],
   "source": [
    "# transform data to be stationary\n",
    "raw_values = df.values\n",
    "diff_values = difference(raw_values, 1)\n",
    "diff_values[:16] #every 5. step"
   ]
  },
  {
   "cell_type": "code",
   "execution_count": null,
   "id": "2b1ad286",
   "metadata": {},
   "outputs": [],
   "source": []
  },
  {
   "cell_type": "code",
   "execution_count": 11,
   "id": "6cfa9d67",
   "metadata": {},
   "outputs": [
    {
     "data": {
      "text/html": [
       "<div>\n",
       "<style scoped>\n",
       "    .dataframe tbody tr th:only-of-type {\n",
       "        vertical-align: middle;\n",
       "    }\n",
       "\n",
       "    .dataframe tbody tr th {\n",
       "        vertical-align: top;\n",
       "    }\n",
       "\n",
       "    .dataframe thead th {\n",
       "        text-align: right;\n",
       "    }\n",
       "</style>\n",
       "<table border=\"1\" class=\"dataframe\">\n",
       "  <thead>\n",
       "    <tr style=\"text-align: right;\">\n",
       "      <th></th>\n",
       "      <th>0</th>\n",
       "      <th>0</th>\n",
       "      <th>0</th>\n",
       "      <th>0</th>\n",
       "      <th>0</th>\n",
       "      <th>0</th>\n",
       "    </tr>\n",
       "  </thead>\n",
       "  <tbody>\n",
       "    <tr>\n",
       "      <th>0</th>\n",
       "      <td>0</td>\n",
       "      <td>0</td>\n",
       "      <td>0</td>\n",
       "      <td>0</td>\n",
       "      <td>0</td>\n",
       "      <td>[0.0]</td>\n",
       "    </tr>\n",
       "    <tr>\n",
       "      <th>1</th>\n",
       "      <td>[0.0]</td>\n",
       "      <td>0</td>\n",
       "      <td>0</td>\n",
       "      <td>0</td>\n",
       "      <td>0</td>\n",
       "      <td>[0.0]</td>\n",
       "    </tr>\n",
       "    <tr>\n",
       "      <th>2</th>\n",
       "      <td>[0.0]</td>\n",
       "      <td>[0.0]</td>\n",
       "      <td>0</td>\n",
       "      <td>0</td>\n",
       "      <td>0</td>\n",
       "      <td>[0.0]</td>\n",
       "    </tr>\n",
       "    <tr>\n",
       "      <th>3</th>\n",
       "      <td>[0.0]</td>\n",
       "      <td>[0.0]</td>\n",
       "      <td>[0.0]</td>\n",
       "      <td>0</td>\n",
       "      <td>0</td>\n",
       "      <td>[0.0]</td>\n",
       "    </tr>\n",
       "    <tr>\n",
       "      <th>4</th>\n",
       "      <td>[0.0]</td>\n",
       "      <td>[0.0]</td>\n",
       "      <td>[0.0]</td>\n",
       "      <td>[0.0]</td>\n",
       "      <td>0</td>\n",
       "      <td>[0.0]</td>\n",
       "    </tr>\n",
       "    <tr>\n",
       "      <th>5</th>\n",
       "      <td>[0.0]</td>\n",
       "      <td>[0.0]</td>\n",
       "      <td>[0.0]</td>\n",
       "      <td>[0.0]</td>\n",
       "      <td>[0.0]</td>\n",
       "      <td>[0.0]</td>\n",
       "    </tr>\n",
       "    <tr>\n",
       "      <th>6</th>\n",
       "      <td>[0.0]</td>\n",
       "      <td>[0.0]</td>\n",
       "      <td>[0.0]</td>\n",
       "      <td>[0.0]</td>\n",
       "      <td>[0.0]</td>\n",
       "      <td>[-0.240000000000002]</td>\n",
       "    </tr>\n",
       "    <tr>\n",
       "      <th>7</th>\n",
       "      <td>[-0.240000000000002]</td>\n",
       "      <td>[0.0]</td>\n",
       "      <td>[0.0]</td>\n",
       "      <td>[0.0]</td>\n",
       "      <td>[0.0]</td>\n",
       "      <td>[0.0]</td>\n",
       "    </tr>\n",
       "    <tr>\n",
       "      <th>8</th>\n",
       "      <td>[0.0]</td>\n",
       "      <td>[-0.240000000000002]</td>\n",
       "      <td>[0.0]</td>\n",
       "      <td>[0.0]</td>\n",
       "      <td>[0.0]</td>\n",
       "      <td>[0.0]</td>\n",
       "    </tr>\n",
       "    <tr>\n",
       "      <th>9</th>\n",
       "      <td>[0.0]</td>\n",
       "      <td>[0.0]</td>\n",
       "      <td>[-0.240000000000002]</td>\n",
       "      <td>[0.0]</td>\n",
       "      <td>[0.0]</td>\n",
       "      <td>[0.0]</td>\n",
       "    </tr>\n",
       "  </tbody>\n",
       "</table>\n",
       "</div>"
      ],
      "text/plain": [
       "                      0                     0                     0      0  \\\n",
       "0                     0                     0                     0      0   \n",
       "1                 [0.0]                     0                     0      0   \n",
       "2                 [0.0]                 [0.0]                     0      0   \n",
       "3                 [0.0]                 [0.0]                 [0.0]      0   \n",
       "4                 [0.0]                 [0.0]                 [0.0]  [0.0]   \n",
       "5                 [0.0]                 [0.0]                 [0.0]  [0.0]   \n",
       "6                 [0.0]                 [0.0]                 [0.0]  [0.0]   \n",
       "7  [-0.240000000000002]                 [0.0]                 [0.0]  [0.0]   \n",
       "8                 [0.0]  [-0.240000000000002]                 [0.0]  [0.0]   \n",
       "9                 [0.0]                 [0.0]  [-0.240000000000002]  [0.0]   \n",
       "\n",
       "       0                     0  \n",
       "0      0                 [0.0]  \n",
       "1      0                 [0.0]  \n",
       "2      0                 [0.0]  \n",
       "3      0                 [0.0]  \n",
       "4      0                 [0.0]  \n",
       "5  [0.0]                 [0.0]  \n",
       "6  [0.0]  [-0.240000000000002]  \n",
       "7  [0.0]                 [0.0]  \n",
       "8  [0.0]                 [0.0]  \n",
       "9  [0.0]                 [0.0]  "
      ]
     },
     "execution_count": 11,
     "metadata": {},
     "output_type": "execute_result"
    }
   ],
   "source": [
    "# transform data to be supervised learning\n",
    "lag_exp=5\n",
    "supervised = timeseries_to_supervised(diff_values, lag_exp)\n",
    "\n",
    "supervised[:10]"
   ]
  },
  {
   "cell_type": "code",
   "execution_count": 12,
   "id": "8dbea554",
   "metadata": {},
   "outputs": [
    {
     "data": {
      "text/plain": [
       "array([[0, 0, 0, 0, 0, array([0.])],\n",
       "       [array([0.]), 0, 0, 0, 0, array([0.])],\n",
       "       [array([0.]), array([0.]), 0, 0, 0, array([0.])],\n",
       "       [array([0.]), array([0.]), array([0.]), 0, 0, array([0.])],\n",
       "       [array([0.]), array([0.]), array([0.]), array([0.]), 0,\n",
       "        array([0.])],\n",
       "       [array([0.]), array([0.]), array([0.]), array([0.]), array([0.]),\n",
       "        array([0.])]], dtype=object)"
      ]
     },
     "execution_count": 12,
     "metadata": {},
     "output_type": "execute_result"
    }
   ],
   "source": [
    "supervised_values = supervised.values\n",
    "supervised_values[:6]"
   ]
  },
  {
   "cell_type": "code",
   "execution_count": 13,
   "id": "e93e42dc",
   "metadata": {},
   "outputs": [],
   "source": [
    "# invert differenced value\n",
    "def inverse_difference(history, yhat, interval=1):\n",
    "    return yhat + history[-interval]\n"
   ]
  },
  {
   "cell_type": "code",
   "execution_count": 14,
   "id": "9c3d4bc7",
   "metadata": {},
   "outputs": [
    {
     "name": "stdout",
     "output_type": "stream",
     "text": [
      "[[array([0.]) array([0.]) array([0.]) array([0.]) array([-0.42])\n",
      "  array([0.])]\n",
      " [array([0.]) array([0.]) array([0.]) array([0.]) array([0.]) array([0.])]\n",
      " [array([0.]) array([0.]) array([0.]) array([0.]) array([0.])\n",
      "  array([0.56])]\n",
      " [array([0.56]) array([0.]) array([0.]) array([0.]) array([0.])\n",
      "  array([0.])]]\n"
     ]
    }
   ],
   "source": [
    "# split data into train and test-sets\n",
    "\n",
    "predict_values_exp = 60 #next predicting minute\n",
    "train, test = supervised_values[0:-predict_values_exp], supervised_values[-predict_values_exp:]\n",
    "print(test[:4])"
   ]
  },
  {
   "cell_type": "code",
   "execution_count": 15,
   "id": "7a99d4ce",
   "metadata": {},
   "outputs": [
    {
     "name": "stdout",
     "output_type": "stream",
     "text": [
      "[[0 0 0 0 0 array([0.])]\n",
      " [array([0.]) 0 0 0 0 array([0.])]\n",
      " [array([0.]) array([0.]) 0 0 0 array([0.])]\n",
      " [array([0.]) array([0.]) array([0.]) 0 0 array([0.])]\n",
      " [array([0.]) array([0.]) array([0.]) array([0.]) 0 array([0.])]\n",
      " [array([0.]) array([0.]) array([0.]) array([0.]) array([0.]) array([0.])]]\n"
     ]
    }
   ],
   "source": [
    "print(train[:6])"
   ]
  },
  {
   "cell_type": "code",
   "execution_count": 16,
   "id": "17fa1df5",
   "metadata": {},
   "outputs": [],
   "source": [
    "# scale train and test data to [-1, 1]\n",
    "def scale(train, test):\n",
    "    # fit scaler\n",
    "    scaler = MinMaxScaler(feature_range=(-1, 1))\n",
    "    scaler = scaler.fit(train)\n",
    "    # transform train\n",
    "    train = train.reshape(train.shape[0], train.shape[1])\n",
    "    train_scaled = scaler.transform(train)\n",
    "    # transform test\n",
    "    test = test.reshape(test.shape[0], test.shape[1])\n",
    "    test_scaled = scaler.transform(test)\n",
    "    return scaler, train_scaled, test_scaled"
   ]
  },
  {
   "cell_type": "code",
   "execution_count": 17,
   "id": "2d150ce9",
   "metadata": {},
   "outputs": [],
   "source": [
    "# transform the scale of the data\n",
    "scaler, train_scaled, test_scaled = scale(train, test)\n"
   ]
  },
  {
   "cell_type": "code",
   "execution_count": 18,
   "id": "60af2ea2",
   "metadata": {},
   "outputs": [
    {
     "name": "stdout",
     "output_type": "stream",
     "text": [
      "MinMaxScaler(copy=True, feature_range=(-1, 1))\n"
     ]
    }
   ],
   "source": [
    "print(scaler)"
   ]
  },
  {
   "cell_type": "code",
   "execution_count": 19,
   "id": "dca78776",
   "metadata": {},
   "outputs": [
    {
     "data": {
      "text/plain": [
       "array([[0, 0, 0, 0, 0, array([0.])],\n",
       "       [array([0.]), 0, 0, 0, 0, array([0.])]], dtype=object)"
      ]
     },
     "execution_count": 19,
     "metadata": {},
     "output_type": "execute_result"
    }
   ],
   "source": [
    "train[:2]"
   ]
  },
  {
   "cell_type": "code",
   "execution_count": 20,
   "id": "d9290b03",
   "metadata": {},
   "outputs": [
    {
     "name": "stdout",
     "output_type": "stream",
     "text": [
      "[[-0.02768549 -0.02768549 -0.02768549 -0.02768549 -0.02768549 -0.02768549]\n",
      " [-0.02768549 -0.02768549 -0.02768549 -0.02768549 -0.02768549 -0.02768549]]\n"
     ]
    }
   ],
   "source": [
    "print(train_scaled[:2])"
   ]
  },
  {
   "cell_type": "code",
   "execution_count": 21,
   "id": "14ec2c19",
   "metadata": {},
   "outputs": [
    {
     "data": {
      "text/plain": [
       "array([[array([0.]), array([0.]), array([0.]), array([0.]),\n",
       "        array([-0.42]), array([0.])],\n",
       "       [array([0.]), array([0.]), array([0.]), array([0.]), array([0.]),\n",
       "        array([0.])]], dtype=object)"
      ]
     },
     "execution_count": 21,
     "metadata": {},
     "output_type": "execute_result"
    }
   ],
   "source": [
    "test[:2]"
   ]
  },
  {
   "cell_type": "code",
   "execution_count": 22,
   "id": "fe04dec8",
   "metadata": {},
   "outputs": [
    {
     "name": "stdout",
     "output_type": "stream",
     "text": [
      "[[-0.02768549 -0.02768549 -0.02768549 -0.02768549 -0.12070875 -0.02768549]\n",
      " [-0.02768549 -0.02768549 -0.02768549 -0.02768549 -0.02768549 -0.02768549]]\n"
     ]
    }
   ],
   "source": [
    "print(test_scaled[:2])"
   ]
  },
  {
   "cell_type": "code",
   "execution_count": 23,
   "id": "ffee49e9",
   "metadata": {},
   "outputs": [],
   "source": [
    "# inverse scaling for a forecasted value\n",
    "def invert_scale(scaler, X, value):\n",
    "    new_row = [x for x in X] + [value]\n",
    "    array = np.array(new_row)\n",
    "    array = array.reshape(1, len(array))\n",
    "    inverted = scaler.inverse_transform(array)\n",
    "    return inverted[0, -1]\n"
   ]
  },
  {
   "cell_type": "code",
   "execution_count": 24,
   "id": "06e361a8",
   "metadata": {},
   "outputs": [
    {
     "name": "stdout",
     "output_type": "stream",
     "text": [
      "[[0 0 0 0 0]\n",
      " [array([0.]) 0 0 0 0]\n",
      " [array([0.]) array([0.]) 0 0 0]\n",
      " [array([0.]) array([0.]) array([0.]) 0 0]\n",
      " [array([0.]) array([0.]) array([0.]) array([0.]) 0]\n",
      " [array([0.]) array([0.]) array([0.]) array([0.]) array([0.])]]\n"
     ]
    }
   ],
   "source": [
    "X, y = train[:, 0:-1], train[:, -1]\n",
    "print(X[:6])"
   ]
  },
  {
   "cell_type": "code",
   "execution_count": 25,
   "id": "6157ff69",
   "metadata": {},
   "outputs": [
    {
     "data": {
      "text/plain": [
       "(79314, 5)"
      ]
     },
     "execution_count": 25,
     "metadata": {},
     "output_type": "execute_result"
    }
   ],
   "source": [
    "X.shape"
   ]
  },
  {
   "cell_type": "code",
   "execution_count": 26,
   "id": "7888eaf2",
   "metadata": {},
   "outputs": [
    {
     "data": {
      "text/plain": [
       "(79314,)"
      ]
     },
     "execution_count": 26,
     "metadata": {},
     "output_type": "execute_result"
    }
   ],
   "source": [
    "y.shape"
   ]
  },
  {
   "cell_type": "code",
   "execution_count": 27,
   "id": "39df2aec",
   "metadata": {},
   "outputs": [
    {
     "name": "stdout",
     "output_type": "stream",
     "text": [
      "[array([0.]) array([0.]) array([0.]) array([0.]) array([0.]) array([0.])\n",
      " array([-0.24]) array([0.]) array([0.]) array([0.])]\n"
     ]
    }
   ],
   "source": [
    "print(y[:10])"
   ]
  },
  {
   "cell_type": "code",
   "execution_count": 28,
   "id": "629c8ec6",
   "metadata": {},
   "outputs": [
    {
     "data": {
      "text/plain": [
       "79314"
      ]
     },
     "execution_count": 28,
     "metadata": {},
     "output_type": "execute_result"
    }
   ],
   "source": [
    "X.shape[0]"
   ]
  },
  {
   "cell_type": "code",
   "execution_count": 29,
   "id": "248120af",
   "metadata": {},
   "outputs": [
    {
     "data": {
      "text/plain": [
       "5"
      ]
     },
     "execution_count": 29,
     "metadata": {},
     "output_type": "execute_result"
    }
   ],
   "source": [
    "X.shape[1]"
   ]
  },
  {
   "cell_type": "code",
   "execution_count": 30,
   "id": "b47f6baf",
   "metadata": {},
   "outputs": [
    {
     "data": {
      "text/plain": [
       "array([[[0, 0, 0, 0, 0]],\n",
       "\n",
       "       [[array([0.]), 0, 0, 0, 0]],\n",
       "\n",
       "       [[array([0.]), array([0.]), 0, 0, 0]],\n",
       "\n",
       "       [[array([0.]), array([0.]), array([0.]), 0, 0]],\n",
       "\n",
       "       [[array([0.]), array([0.]), array([0.]), array([0.]), 0]]],\n",
       "      dtype=object)"
      ]
     },
     "execution_count": 30,
     "metadata": {},
     "output_type": "execute_result"
    }
   ],
   "source": [
    "X = X.reshape(X.shape[0], 1, X.shape[1])\n",
    "X[:5]"
   ]
  },
  {
   "cell_type": "code",
   "execution_count": 31,
   "id": "97ffc4b6",
   "metadata": {},
   "outputs": [
    {
     "data": {
      "text/plain": [
       "(79314, 1, 5)"
      ]
     },
     "execution_count": 31,
     "metadata": {},
     "output_type": "execute_result"
    }
   ],
   "source": [
    "X.shape"
   ]
  },
  {
   "cell_type": "code",
   "execution_count": null,
   "id": "34df1d11",
   "metadata": {},
   "outputs": [],
   "source": []
  },
  {
   "cell_type": "code",
   "execution_count": 32,
   "id": "82c3f7ec",
   "metadata": {},
   "outputs": [],
   "source": [
    "# fit an LSTM network to training data\n",
    "def fit_lstm(train, batch_size=1, nb_epoch=5, neurons=10):\n",
    "    # simple early stopping\n",
    "\n",
    "    #es = EarlyStopping(monitor='val_loss', mode='min', verbose=1, patience=3)\n",
    "    #mc = ModelCheckpoint(filepath=\"model/model1.h5\", save_best_only=True)\n",
    "  \n",
    "    X, y = train[:, 0:-1], train[:, -1]\n",
    "    X = X.reshape(X.shape[0], 1, X.shape[1])\n",
    "    model = Sequential()\n",
    "    model.add(LSTM(neurons, batch_input_shape=(batch_size, X.shape[1], X.shape[2]), stateful=True))\n",
    "    model.add(Dense(1))\n",
    "    model.compile(loss=MeanSquaredError(), optimizer=Adam(learning_rate=0.0001), metrics=[RootMeanSquaredError()])\n",
    "        \n",
    "    for i in range(nb_epoch):\n",
    "        model.fit(X, y, epochs=1, batch_size=batch_size, verbose=1, shuffle=False#, callbacks=[mc,es]\n",
    "                 )\n",
    "        model.reset_states()\n",
    "    model.save(\"model/model1.h5\")\n",
    "    return model\n",
    "    #print(model.summary)\n"
   ]
  },
  {
   "cell_type": "code",
   "execution_count": 33,
   "id": "9e7f4bea",
   "metadata": {},
   "outputs": [],
   "source": [
    "\n",
    "# make a one-step forecast\n",
    "def forecast_lstm(model, batch_size, X):\n",
    "    X = X.reshape(1, 1, len(X))\n",
    "    #print(X)\n",
    "    yhat = model.predict(X, batch_size=1)\n",
    "    return yhat[0,0]"
   ]
  },
  {
   "cell_type": "code",
   "execution_count": 34,
   "id": "c4ec00e7",
   "metadata": {},
   "outputs": [
    {
     "data": {
      "text/plain": [
       "(79314, 1, 5)"
      ]
     },
     "execution_count": 34,
     "metadata": {},
     "output_type": "execute_result"
    }
   ],
   "source": [
    "X.shape"
   ]
  },
  {
   "cell_type": "code",
   "execution_count": null,
   "id": "593cc30f",
   "metadata": {},
   "outputs": [],
   "source": []
  },
  {
   "cell_type": "code",
   "execution_count": 35,
   "id": "bea38b55",
   "metadata": {},
   "outputs": [
    {
     "name": "stdout",
     "output_type": "stream",
     "text": [
      "CPU times: user 3 µs, sys: 1 µs, total: 4 µs\n",
      "Wall time: 6.91 µs\n",
      "79314/79314 [==============================] - 190s 2ms/step - loss: 0.0035 - root_mean_squared_error: 0.0589\n"
     ]
    }
   ],
   "source": [
    "%time\n",
    "\n",
    "# transform data to be stationary\n",
    "raw_values = df.values\n",
    "diff_values = difference(raw_values, 1)\n",
    "\n",
    "# transform data to be supervised learning\n",
    "supervised = timeseries_to_supervised(diff_values, lag_exp)\n",
    "supervised_values = supervised.values\n",
    "\n",
    "# split data into train and test-sets\n",
    "train, test = supervised_values[0:-predict_values_exp], supervised_values[-predict_values_exp:]\n",
    "\n",
    "\n",
    "# transform the scale of the data\n",
    "scaler, train_scaled, test_scaled = scale(train, test)\n",
    "\n",
    "# fit the model\n",
    "\n",
    "\n",
    "lstm_model = fit_lstm(train_scaled, batch_size_exp, epoch_exp, neurons_exp)"
   ]
  },
  {
   "cell_type": "code",
   "execution_count": 36,
   "id": "f65bd6e0",
   "metadata": {},
   "outputs": [],
   "source": [
    "#PLOTS"
   ]
  },
  {
   "cell_type": "code",
   "execution_count": 37,
   "id": "eb54e0e3",
   "metadata": {},
   "outputs": [],
   "source": [
    "# walk-forward validation on the test data\n",
    "predictions = list()\n",
    "expectations = list()\n",
    "predictions_plot = list()\n",
    "expectations_plot = list()\n",
    "test_pred = list()\n"
   ]
  },
  {
   "cell_type": "code",
   "execution_count": 38,
   "id": "56cf8555",
   "metadata": {},
   "outputs": [
    {
     "data": {
      "text/plain": [
       "array([[-0.02768549, -0.02768549, -0.02768549, -0.02768549, -0.12070875,\n",
       "        -0.02768549],\n",
       "       [-0.02768549, -0.02768549, -0.02768549, -0.02768549, -0.02768549,\n",
       "        -0.02768549],\n",
       "       [-0.02768549, -0.02768549, -0.02768549, -0.02768549, -0.02768549,\n",
       "         0.09634551]])"
      ]
     },
     "execution_count": 38,
     "metadata": {},
     "output_type": "execute_result"
    }
   ],
   "source": [
    "test_scaled[:3]"
   ]
  },
  {
   "cell_type": "code",
   "execution_count": 39,
   "id": "6f6010db",
   "metadata": {},
   "outputs": [
    {
     "data": {
      "text/plain": [
       "array([-0.02768549, -0.02768549, -0.02768549, -0.02768549, -0.02768549])"
      ]
     },
     "execution_count": 39,
     "metadata": {},
     "output_type": "execute_result"
    }
   ],
   "source": [
    "test_scaled[1, 0:-1]"
   ]
  },
  {
   "cell_type": "code",
   "execution_count": 40,
   "id": "bb4cd350",
   "metadata": {},
   "outputs": [
    {
     "data": {
      "text/plain": [
       "-0.027685492801771905"
      ]
     },
     "execution_count": 40,
     "metadata": {},
     "output_type": "execute_result"
    }
   ],
   "source": [
    "test_scaled[1, -1]"
   ]
  },
  {
   "cell_type": "code",
   "execution_count": 41,
   "id": "a73d705a",
   "metadata": {},
   "outputs": [
    {
     "data": {
      "text/plain": [
       "<keras.engine.sequential.Sequential at 0x7fab46005280>"
      ]
     },
     "execution_count": 41,
     "metadata": {},
     "output_type": "execute_result"
    }
   ],
   "source": [
    "lstm_model"
   ]
  },
  {
   "cell_type": "code",
   "execution_count": 42,
   "id": "6e1a1a57",
   "metadata": {},
   "outputs": [],
   "source": [
    "# make a one-step forecast\n",
    "def forecast_lstm(model, batch_size, X):\n",
    "    X = X.reshape(1, 1, len(X))\n",
    "    #print(X)\n",
    "    yhat = model.predict(X, batch_size=1)\n",
    "    return yhat[0,0]"
   ]
  },
  {
   "cell_type": "code",
   "execution_count": 43,
   "id": "227a5689",
   "metadata": {},
   "outputs": [
    {
     "data": {
      "text/plain": [
       "-0.01982584"
      ]
     },
     "execution_count": 43,
     "metadata": {},
     "output_type": "execute_result"
    }
   ],
   "source": [
    "X=test_scaled[1, 0:-1]\n",
    "yhat = forecast_lstm(lstm_model, 1, X)\n",
    "yhat"
   ]
  },
  {
   "cell_type": "code",
   "execution_count": 44,
   "id": "5a2c52c3",
   "metadata": {},
   "outputs": [],
   "source": [
    "test_pred = [yhat] + test_pred "
   ]
  },
  {
   "cell_type": "code",
   "execution_count": 45,
   "id": "2abc717d",
   "metadata": {},
   "outputs": [
    {
     "data": {
      "text/plain": [
       "[-0.01982584]"
      ]
     },
     "execution_count": 45,
     "metadata": {},
     "output_type": "execute_result"
    }
   ],
   "source": [
    "test_pred"
   ]
  },
  {
   "cell_type": "code",
   "execution_count": 46,
   "id": "12ce013d",
   "metadata": {},
   "outputs": [
    {
     "data": {
      "text/plain": [
       "1"
      ]
     },
     "execution_count": 46,
     "metadata": {},
     "output_type": "execute_result"
    }
   ],
   "source": [
    "len(test_pred)"
   ]
  },
  {
   "cell_type": "code",
   "execution_count": 47,
   "id": "a4417b71",
   "metadata": {},
   "outputs": [
    {
     "data": {
      "text/plain": [
       "array([-0.02768549, -0.02768549, -0.02768549, -0.02768549, -0.02768549])"
      ]
     },
     "execution_count": 47,
     "metadata": {},
     "output_type": "execute_result"
    }
   ],
   "source": [
    "X"
   ]
  },
  {
   "cell_type": "code",
   "execution_count": 48,
   "id": "4b1637d0",
   "metadata": {},
   "outputs": [
    {
     "data": {
      "text/plain": [
       "-0.025433537"
      ]
     },
     "execution_count": 48,
     "metadata": {},
     "output_type": "execute_result"
    }
   ],
   "source": [
    "yhat = forecast_lstm(lstm_model, 1, X)\n",
    "yhat"
   ]
  },
  {
   "cell_type": "code",
   "execution_count": 49,
   "id": "e6d2790d",
   "metadata": {},
   "outputs": [
    {
     "data": {
      "text/plain": [
       "array([[23.28],\n",
       "       [23.28],\n",
       "       [23.28],\n",
       "       ...,\n",
       "       [20.7 ],\n",
       "       [21.25],\n",
       "       [21.25]])"
      ]
     },
     "execution_count": 49,
     "metadata": {},
     "output_type": "execute_result"
    }
   ],
   "source": [
    "raw_values"
   ]
  },
  {
   "cell_type": "code",
   "execution_count": 50,
   "id": "042e01f6",
   "metadata": {},
   "outputs": [
    {
     "data": {
      "text/plain": [
       "60"
      ]
     },
     "execution_count": 50,
     "metadata": {},
     "output_type": "execute_result"
    }
   ],
   "source": [
    "len(test_scaled)"
   ]
  },
  {
   "cell_type": "code",
   "execution_count": 51,
   "id": "9d14815b",
   "metadata": {},
   "outputs": [
    {
     "data": {
      "text/plain": [
       "array([19.18456646])"
      ]
     },
     "execution_count": 51,
     "metadata": {},
     "output_type": "execute_result"
    }
   ],
   "source": [
    "yhat = inverse_difference(raw_values, yhat, len(test_scaled)+1-2)#i=2\n",
    "yhat"
   ]
  },
  {
   "cell_type": "code",
   "execution_count": 52,
   "id": "f31a1bb9",
   "metadata": {},
   "outputs": [
    {
     "data": {
      "text/plain": [
       "79314"
      ]
     },
     "execution_count": 52,
     "metadata": {},
     "output_type": "execute_result"
    }
   ],
   "source": [
    "len(train)"
   ]
  },
  {
   "cell_type": "code",
   "execution_count": 53,
   "id": "42b3e80d",
   "metadata": {},
   "outputs": [
    {
     "data": {
      "text/plain": [
       "array([[23.28],\n",
       "       [23.28],\n",
       "       [23.28],\n",
       "       ...,\n",
       "       [20.7 ],\n",
       "       [21.25],\n",
       "       [21.25]])"
      ]
     },
     "execution_count": 53,
     "metadata": {},
     "output_type": "execute_result"
    }
   ],
   "source": [
    "raw_values"
   ]
  },
  {
   "cell_type": "code",
   "execution_count": 54,
   "id": "83fa7a48",
   "metadata": {},
   "outputs": [
    {
     "data": {
      "text/plain": [
       "array([19.77])"
      ]
     },
     "execution_count": 54,
     "metadata": {},
     "output_type": "execute_result"
    }
   ],
   "source": [
    "expected = raw_values[len(train) + 2 + 1] #i=2\n",
    "expected"
   ]
  },
  {
   "cell_type": "code",
   "execution_count": null,
   "id": "25e3119b",
   "metadata": {},
   "outputs": [],
   "source": []
  },
  {
   "cell_type": "code",
   "execution_count": 55,
   "id": "6c717711",
   "metadata": {},
   "outputs": [
    {
     "ename": "ValueError",
     "evalue": "could not broadcast input array from shape (7,) into shape (6,)",
     "output_type": "error",
     "traceback": [
      "\u001b[0;31m---------------------------------------------------------------------------\u001b[0m",
      "\u001b[0;31mValueError\u001b[0m                                Traceback (most recent call last)",
      "\u001b[0;32m<ipython-input-55-7253a910aa47>\u001b[0m in \u001b[0;36m<module>\u001b[0;34m\u001b[0m\n\u001b[1;32m     14\u001b[0m             \u001b[0mtest_scaled\u001b[0m\u001b[0;34m[\u001b[0m\u001b[0mi\u001b[0m\u001b[0;34m+\u001b[0m\u001b[0;36m1\u001b[0m\u001b[0;34m]\u001b[0m \u001b[0;34m=\u001b[0m \u001b[0mtest_pred\u001b[0m\u001b[0;34m\u001b[0m\u001b[0;34m\u001b[0m\u001b[0m\n\u001b[1;32m     15\u001b[0m         \u001b[0;32melse\u001b[0m\u001b[0;34m:\u001b[0m\u001b[0;34m\u001b[0m\u001b[0;34m\u001b[0m\u001b[0m\n\u001b[0;32m---> 16\u001b[0;31m             \u001b[0mtest_scaled\u001b[0m\u001b[0;34m[\u001b[0m\u001b[0mi\u001b[0m\u001b[0;34m+\u001b[0m\u001b[0;36m1\u001b[0m\u001b[0;34m]\u001b[0m \u001b[0;34m=\u001b[0m \u001b[0mnp\u001b[0m\u001b[0;34m.\u001b[0m\u001b[0mconcatenate\u001b[0m\u001b[0;34m(\u001b[0m\u001b[0;34m(\u001b[0m\u001b[0mtest_pred\u001b[0m\u001b[0;34m,\u001b[0m \u001b[0mtest_scaled\u001b[0m\u001b[0;34m[\u001b[0m\u001b[0mi\u001b[0m\u001b[0;34m+\u001b[0m\u001b[0;36m1\u001b[0m\u001b[0;34m,\u001b[0m \u001b[0mi\u001b[0m\u001b[0;34m+\u001b[0m\u001b[0;36m1\u001b[0m\u001b[0;34m:\u001b[0m\u001b[0;34m]\u001b[0m\u001b[0;34m)\u001b[0m\u001b[0;34m,\u001b[0m\u001b[0maxis\u001b[0m\u001b[0;34m=\u001b[0m\u001b[0;36m0\u001b[0m\u001b[0;34m)\u001b[0m\u001b[0;34m\u001b[0m\u001b[0;34m\u001b[0m\u001b[0m\n\u001b[0m\u001b[1;32m     17\u001b[0m \u001b[0;34m\u001b[0m\u001b[0m\n\u001b[1;32m     18\u001b[0m     \u001b[0;31m# invert scaling\u001b[0m\u001b[0;34m\u001b[0m\u001b[0;34m\u001b[0m\u001b[0;34m\u001b[0m\u001b[0m\n",
      "\u001b[0;31mValueError\u001b[0m: could not broadcast input array from shape (7,) into shape (6,)"
     ]
    }
   ],
   "source": [
    "lag_exp=5\n",
    "\n",
    "for i in range(len(test_scaled)):\n",
    "    # make one-step forecast\n",
    "    X, y = test_scaled[i, 0:-1], test_scaled[i, -1]\n",
    "    yhat = forecast_lstm(lstm_model, 1, X)#batch_size_exp to 1\n",
    "\n",
    "    # Replacing value in test scaled with the predicted value.\n",
    "    test_pred = [yhat] + test_pred \n",
    "    if len(test_pred) > lag_exp+1:#block divided into 5\n",
    "        test_pred = test_pred[:-1]\n",
    "    if i+1<len(test_scaled):\n",
    "        if i+1 > lag_exp+1:\n",
    "            test_scaled[i+1] = test_pred\n",
    "        else:\n",
    "            test_scaled[i+1] = np.concatenate((test_pred, test_scaled[i+1, i+1:]),axis=0)\n",
    "\n",
    "    # invert scaling\n",
    "    yhat = invert_scale(scaler, X, yhat)\n",
    "    # invert differencing\n",
    "    yhat = inverse_difference(raw_values, yhat, len(test_scaled)+1-i)\n",
    "    # store forecast\n",
    "    expected = raw_values[len(train) + i + 1]\n",
    "    predictions_plot.append(yhat)\n",
    "    expectations_plot.append(expected)\n",
    "    if expected != 0:\n",
    "        predictions.append(yhat)\n",
    "        expectations.append(expected)\n",
    "\n",
    "        \n",
    "        \n",
    "    print('Minute=%d, Predicted=%f, Expected=%f' % (i+1, yhat, expected))\n",
    "\n",
    "\n",
    "expectations = np.array(expectations)\n",
    "predictions = np.array(predictions)\n",
    "\n",
    "print(\"Mean Absolute Percent Error: \", (np.mean(np.abs((expectations - predictions) / expectations))))\n"
   ]
  },
  {
   "cell_type": "code",
   "execution_count": null,
   "id": "0f4b9147",
   "metadata": {},
   "outputs": [],
   "source": [
    "\n",
    "\n",
    "# line plot of observed vs predicted\n",
    "\n",
    "#sns.set_style(\"whitegrid\")\n",
    "sns.set_style(\"darkgrid\", {\"axes.facecolor\": \".9\"})\n",
    "plt.figure(figsize=(20,10))\n",
    "plt.plot(expectations_plot[:predict_values_exp], label=\"True\")\n",
    "plt.plot(predictions_plot[:predict_values_exp], label=\"Predicted\")\n",
    "plt.legend(loc='upper right')\n",
    "plt.xlabel(\"Number of Minutes\")\n",
    "plt.ylabel(\"Energy Demand\")\n",
    "plt.savefig('img/Model_predictiond.png')\n",
    "#plt.show()"
   ]
  },
  {
   "cell_type": "code",
   "execution_count": null,
   "id": "4952d728",
   "metadata": {},
   "outputs": [],
   "source": []
  },
  {
   "cell_type": "code",
   "execution_count": null,
   "id": "bc587bf6",
   "metadata": {},
   "outputs": [],
   "source": []
  },
  {
   "cell_type": "code",
   "execution_count": null,
   "id": "29f1db77",
   "metadata": {},
   "outputs": [],
   "source": []
  }
 ],
 "metadata": {
  "kernelspec": {
   "display_name": "Python 3",
   "language": "python",
   "name": "python3"
  },
  "language_info": {
   "codemirror_mode": {
    "name": "ipython",
    "version": 3
   },
   "file_extension": ".py",
   "mimetype": "text/x-python",
   "name": "python",
   "nbconvert_exporter": "python",
   "pygments_lexer": "ipython3",
   "version": "3.8.8"
  }
 },
 "nbformat": 4,
 "nbformat_minor": 5
}
